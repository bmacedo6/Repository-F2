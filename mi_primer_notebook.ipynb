{
  "nbformat": 4,
  "nbformat_minor": 0,
  "metadata": {
    "colab": {
      "provenance": [],
      "include_colab_link": true
    },
    "kernelspec": {
      "name": "python3",
      "display_name": "Python 3"
    },
    "language_info": {
      "name": "python"
    }
  },
  "cells": [
    {
      "cell_type": "markdown",
      "metadata": {
        "id": "view-in-github",
        "colab_type": "text"
      },
      "source": [
        "<a href=\"https://colab.research.google.com/github/bmacedo6/Repository-F2/blob/main/mi_primer_notebook.ipynb\" target=\"_parent\"><img src=\"https://colab.research.google.com/assets/colab-badge.svg\" alt=\"Open In Colab\"/></a>"
      ]
    },
    {
      "cell_type": "markdown",
      "source": [
        "# Introducción a Python\n",
        "\n",
        "Seminario: Usos de la Inteligencia Artificial en las Finanzas\n",
        "\n",
        "Profesores: A. Mendiola, PhD. y F. Rosales, PhD."
      ],
      "metadata": {
        "id": "BoDrqKTaSdE3"
      }
    },
    {
      "cell_type": "markdown",
      "source": [
        "## 1. Primeros Pasos\n",
        "\n",
        "Vamos a comenzar con un simple saludo. Ejecuta la siguiente celda para imprimir un mensaje en la pantalla."
      ],
      "metadata": {
        "id": "FXorXFOVS_DB"
      }
    },
    {
      "cell_type": "code",
      "execution_count": null,
      "metadata": {
        "colab": {
          "base_uri": "https://localhost:8080/"
        },
        "id": "M0O3fIYlSb41",
        "outputId": "55085ff9-3874-49b4-bb12-4fa20ea51541"
      },
      "outputs": [
        {
          "output_type": "stream",
          "name": "stdout",
          "text": [
            "¡Hola, mundo!\n"
          ]
        }
      ],
      "source": [
        "print(\"¡Hola, mundo!\")"
      ]
    },
    {
      "cell_type": "markdown",
      "source": [
        "## 2. Variables y Tipos de Datos\n",
        "\n",
        "En Python, puedes guardar información en variables. Veamos cómo se hace y qué tipos de datos podemos usar."
      ],
      "metadata": {
        "id": "FdgxAMyCTMxw"
      }
    },
    {
      "cell_type": "code",
      "source": [
        "# Definir variables\n",
        "nombre = \"Juan\"  # Cadena de texto\n",
        "edad = 30        # Entero\n",
        "altura = 1.75    # Flotante\n",
        "\n",
        "# Imprimir variables\n",
        "print(\"Nombre:\", nombre)\n",
        "print(\"Edad:\", edad)\n",
        "print(\"Altura en metros:\", altura)"
      ],
      "metadata": {
        "colab": {
          "base_uri": "https://localhost:8080/"
        },
        "id": "W_H0w6qPTJbf",
        "outputId": "74255eb1-cec1-48ba-e273-3fabff7c9306"
      },
      "execution_count": null,
      "outputs": [
        {
          "output_type": "stream",
          "name": "stdout",
          "text": [
            "Nombre: Juan\n",
            "Edad: 30\n",
            "Altura en metros: 1.75\n"
          ]
        }
      ]
    },
    {
      "cell_type": "markdown",
      "source": [
        "## 3. Operadores\n",
        "\n",
        "Python puede realizar operaciones matemáticas básicas. Aquí tienes algunos ejemplos:"
      ],
      "metadata": {
        "id": "cj08kRaYTNTX"
      }
    },
    {
      "cell_type": "code",
      "source": [
        "# Operaciones matemáticas\n",
        "a = 10\n",
        "b = 5\n",
        "\n",
        "suma = a + b\n",
        "resta = a - b\n",
        "multiplicacion = a * b\n",
        "division = a / b\n",
        "\n",
        "print(\"Suma:\", suma)\n",
        "print(\"Resta:\", resta)\n",
        "print(\"Multiplicación:\", multiplicacion)\n",
        "print(\"División:\", division)"
      ],
      "metadata": {
        "colab": {
          "base_uri": "https://localhost:8080/"
        },
        "id": "AAHnbi1fTJfN",
        "outputId": "e4ef7ffb-2757-4bd1-bcd9-6a2c0c1d8033"
      },
      "execution_count": null,
      "outputs": [
        {
          "output_type": "stream",
          "name": "stdout",
          "text": [
            "Suma: 15\n",
            "Resta: 5\n",
            "Multiplicación: 50\n",
            "División: 2.0\n"
          ]
        }
      ]
    },
    {
      "cell_type": "markdown",
      "source": [
        "## 4. Estructuras de Control\n",
        "\n",
        "Las estructuras de control permiten tomar decisiones y repetir acciones. Vamos a ver un ejemplo básico usando if, for, y while."
      ],
      "metadata": {
        "id": "JB7w-sCrTN1K"
      }
    },
    {
      "cell_type": "code",
      "source": [
        "# Condicionales\n",
        "numero = 0\n",
        "\n",
        "if numero > 0:\n",
        "    print(\"El número es positivo.\")\n",
        "elif numero == 0:\n",
        "    print(\"El número es cero.\")\n",
        "else:\n",
        "    print(\"El número es negativo.\")\n"
      ],
      "metadata": {
        "colab": {
          "base_uri": "https://localhost:8080/"
        },
        "id": "EQGoX-mATJjE",
        "outputId": "050b93f1-1687-4c99-f75d-5ac6b38889f3"
      },
      "execution_count": null,
      "outputs": [
        {
          "output_type": "stream",
          "name": "stdout",
          "text": [
            "El número es cero.\n"
          ]
        }
      ]
    },
    {
      "cell_type": "code",
      "source": [
        "# Bucle 'for'\n",
        "print(\"Contar hasta 5 usando 'for':\")\n",
        "for i in range(2, 10):\n",
        "    print(i)"
      ],
      "metadata": {
        "colab": {
          "base_uri": "https://localhost:8080/"
        },
        "id": "X9UUGncET-7P",
        "outputId": "bbb632ee-a2c9-407d-8df5-5de6afbfe122"
      },
      "execution_count": null,
      "outputs": [
        {
          "output_type": "stream",
          "name": "stdout",
          "text": [
            "Contar hasta 5 usando 'for':\n",
            "2\n",
            "3\n",
            "4\n",
            "5\n",
            "6\n",
            "7\n",
            "8\n",
            "9\n"
          ]
        }
      ]
    },
    {
      "cell_type": "code",
      "source": [
        "# Bucle 'while'\n",
        "print(\"Contar hasta 5 usando 'while':\")\n",
        "contador = 1\n",
        "while contador <= 5:\n",
        "    print(contador)\n",
        "    contador += 1"
      ],
      "metadata": {
        "colab": {
          "base_uri": "https://localhost:8080/"
        },
        "id": "DhSzL5LoVbZc",
        "outputId": "4423ce97-9a23-428e-ef94-f8ed23749fd2"
      },
      "execution_count": null,
      "outputs": [
        {
          "output_type": "stream",
          "name": "stdout",
          "text": [
            "Contar hasta 5 usando 'while':\n",
            "1\n",
            "2\n",
            "3\n",
            "4\n",
            "5\n"
          ]
        }
      ]
    },
    {
      "cell_type": "markdown",
      "source": [
        "## 5. Funciones\n",
        "\n",
        "Las funciones te permiten organizar el código en bloques reutilizables. Aquí tienes un ejemplo de cómo definir y usar una función."
      ],
      "metadata": {
        "id": "JEIf_zN8TOY-"
      }
    },
    {
      "cell_type": "code",
      "source": [
        "# Definir una función\n",
        "def saludar(nombre):\n",
        "    mensaje = f\"Hola, {nombre}!\"\n",
        "    return mensaje"
      ],
      "metadata": {
        "id": "ykkvcQurTJmo"
      },
      "execution_count": null,
      "outputs": []
    },
    {
      "cell_type": "code",
      "source": [
        "# Usar la función\n",
        "print(saludar(\"Pedro\"))"
      ],
      "metadata": {
        "colab": {
          "base_uri": "https://localhost:8080/"
        },
        "id": "ocKuXuyAVglE",
        "outputId": "538cdeb9-5776-41c2-aab7-4f8c5e5d1185"
      },
      "execution_count": null,
      "outputs": [
        {
          "output_type": "stream",
          "name": "stdout",
          "text": [
            "Hola, Pedro!\n"
          ]
        }
      ]
    },
    {
      "cell_type": "markdown",
      "source": [
        "## 6. Listas\n",
        "\n",
        "Las listas en Python permiten almacenar varios elementos en una sola variable. Aquí tienes cómo crear y trabajar con listas."
      ],
      "metadata": {
        "id": "VWUXKTczTPKj"
      }
    },
    {
      "cell_type": "code",
      "source": [
        "# Crear una lista\n",
        "frutas = [\"manzana\", \"banana\", \"cereza\"]"
      ],
      "metadata": {
        "id": "zm_hSmFNVnfX"
      },
      "execution_count": null,
      "outputs": []
    },
    {
      "cell_type": "code",
      "source": [
        "# Imprimir la lista\n",
        "print(\"Lista de frutas:\", frutas)"
      ],
      "metadata": {
        "colab": {
          "base_uri": "https://localhost:8080/"
        },
        "id": "wzowMHUEVnaE",
        "outputId": "24584c38-e827-43aa-f428-67629f9686e6"
      },
      "execution_count": null,
      "outputs": [
        {
          "output_type": "stream",
          "name": "stdout",
          "text": [
            "Lista de frutas: ['manzana', 'banana', 'cereza']\n"
          ]
        }
      ]
    },
    {
      "cell_type": "code",
      "source": [
        "# Acceder a elementos\n",
        "print(\"Primera fruta:\", frutas[0])"
      ],
      "metadata": {
        "colab": {
          "base_uri": "https://localhost:8080/"
        },
        "id": "5eUVu4dIVnU-",
        "outputId": "f8841d72-8580-440b-a3fc-fa8c35f087d2"
      },
      "execution_count": null,
      "outputs": [
        {
          "output_type": "stream",
          "name": "stdout",
          "text": [
            "Primera fruta: manzana\n"
          ]
        }
      ]
    },
    {
      "cell_type": "code",
      "source": [
        "# Añadir un elemento\n",
        "frutas.append(\"naranja\")\n",
        "print(\"Lista actualizada de frutas:\", frutas)"
      ],
      "metadata": {
        "colab": {
          "base_uri": "https://localhost:8080/"
        },
        "id": "kUM3vy59VnCN",
        "outputId": "78226e9e-41a2-43f9-e802-96a4c4a5c696"
      },
      "execution_count": null,
      "outputs": [
        {
          "output_type": "stream",
          "name": "stdout",
          "text": [
            "Lista actualizada de frutas: ['manzana', 'banana', 'cereza', 'naranja']\n"
          ]
        }
      ]
    },
    {
      "cell_type": "code",
      "source": [
        "# Iterar sobre la lista\n",
        "print(\"Frutas en la lista:\")\n",
        "for fruta in frutas:\n",
        "    print(fruta)"
      ],
      "metadata": {
        "colab": {
          "base_uri": "https://localhost:8080/"
        },
        "id": "jNFSCPA7TJp5",
        "outputId": "751b6b81-5868-4767-8295-9a379cb14ea2"
      },
      "execution_count": null,
      "outputs": [
        {
          "output_type": "stream",
          "name": "stdout",
          "text": [
            "Frutas en la lista:\n",
            "manzana\n",
            "banana\n",
            "cereza\n",
            "naranja\n"
          ]
        }
      ]
    },
    {
      "cell_type": "markdown",
      "source": [
        "## 7. Diccionarios\n",
        "\n",
        "Los diccionarios almacenan pares clave-valor. Aquí te muestro cómo usarlos."
      ],
      "metadata": {
        "id": "-RxudUnvTPri"
      }
    },
    {
      "cell_type": "code",
      "source": [
        "# Crear un diccionario\n",
        "persona = {\n",
        "    \"nombre\": \"Carlos\",\n",
        "    \"edad\": 28,\n",
        "    \"ciudad\": \"Lima\"\n",
        "}"
      ],
      "metadata": {
        "id": "o9wX0snsVwXr"
      },
      "execution_count": null,
      "outputs": []
    },
    {
      "cell_type": "code",
      "source": [
        "# Imprimir el diccionario\n",
        "print(\"Diccionario persona:\", persona)"
      ],
      "metadata": {
        "colab": {
          "base_uri": "https://localhost:8080/"
        },
        "id": "i0dLxuQJVwOF",
        "outputId": "5a65d453-4420-49a1-8665-1d2cc29cdd0d"
      },
      "execution_count": null,
      "outputs": [
        {
          "output_type": "stream",
          "name": "stdout",
          "text": [
            "Diccionario persona: {'nombre': 'Carlos', 'edad': 28, 'ciudad': 'Lima'}\n"
          ]
        }
      ]
    },
    {
      "cell_type": "code",
      "source": [
        "# Acceder a un valor por su clave\n",
        "print(\"Nombre:\", persona[\"nombre\"])"
      ],
      "metadata": {
        "colab": {
          "base_uri": "https://localhost:8080/"
        },
        "id": "_z7UyKivVwAy",
        "outputId": "25756e28-a4c3-4af0-9e53-7af5f4973d74"
      },
      "execution_count": null,
      "outputs": [
        {
          "output_type": "stream",
          "name": "stdout",
          "text": [
            "Nombre: Carlos\n"
          ]
        }
      ]
    },
    {
      "cell_type": "code",
      "source": [
        "# Añadir una nueva clave-valor\n",
        "persona[\"ocupacion\"] = \"Ingeniero\"\n",
        "print(\"Diccionario actualizado:\", persona)"
      ],
      "metadata": {
        "colab": {
          "base_uri": "https://localhost:8080/"
        },
        "id": "HhL5diUkTJt4",
        "outputId": "0efc5a29-70c8-4e52-b188-7cb53176a5a9"
      },
      "execution_count": null,
      "outputs": [
        {
          "output_type": "stream",
          "name": "stdout",
          "text": [
            "Diccionario actualizado: {'nombre': 'Carlos', 'edad': 28, 'ciudad': 'Lima', 'ocupacion': 'Ingeniero'}\n"
          ]
        }
      ]
    },
    {
      "cell_type": "markdown",
      "source": [
        "## 8. Conclusión\n",
        "\n",
        "En esta introducción a Python, hemos cubierto lo básico para empezar. Puedes experimentar con el código y probar nuevas cosas para familiarizarte más con Python."
      ],
      "metadata": {
        "id": "ErlmbSHrTQIr"
      }
    }
  ]
}